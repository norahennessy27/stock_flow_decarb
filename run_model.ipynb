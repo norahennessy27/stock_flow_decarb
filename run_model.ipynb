{
 "cells": [
  {
   "cell_type": "markdown",
   "id": "12567e6d-ff9e-48c8-803c-e3ea26b0460f",
   "metadata": {},
   "source": [
    "## Load Packages and Data"
   ]
  },
  {
   "cell_type": "code",
   "execution_count": null,
   "id": "d5e430f2-f740-433a-b67d-55fd15fc2cbe",
   "metadata": {},
   "outputs": [],
   "source": [
    "from stock_flow import *\n",
    "import time\n",
    "import warnings\n",
    "warnings.simplefilter(action='ignore', category=FutureWarning)\n",
    "\n",
    "def add_used_vehicle_value(model):\n",
    "    used_prices = pd.read_excel(\"Used HDV Prices.xlsx\")\n",
    "    model[\"used_value\"] = 0\n",
    "    for v in model.veh_type.unique():\n",
    "        for a in model.loc[model.veh_type==v,\"age\"].unique():\n",
    "            model.loc[(model.veh_type==v) & (model.age == a), \"used_value\"] = (used_prices.loc[used_prices.Age==a,v].item()*\n",
    "                                                                       model.loc[(model.veh_type==v) & (model.age == a), \"early_ret\"])\n",
    "    return model"
   ]
  },
  {
   "cell_type": "code",
   "execution_count": null,
   "id": "0862d456-b8bc-42e0-86ab-04586379a392",
   "metadata": {},
   "outputs": [],
   "source": [
    "## Get EMFAC stock profiles:\n",
    "vmt_prof = pd.DataFrame(index = np.arange(2019,2047), columns = [\"T7\", \"T6_OOS\",\"T7_OOS\", \"Buses\",\"MH\",\"MC\",\"LHD1\",\"LHD2\",\"T7_Port\",\"T6\"])\n",
    "for v in [\"T7\", \"T6_OOS\",\"T7_OOS\", \"Buses\",\"MH\",\"MC\",\"LHD1\",\"LHD2\",\"T7_Port\",\"T6\"]:\n",
    "    t = pd.read_csv(f\"EMFAC_BAU/EMFAC_bau_model_{v}.csv\")\n",
    "    t_vmt = t.groupby(\"year\").agg({\"vmt\":\"sum\"})\n",
    "    vmt_prof[v] = t_vmt"
   ]
  },
  {
   "cell_type": "code",
   "execution_count": null,
   "id": "3495c15f-f11f-4b19-8cb4-ad09388809ae",
   "metadata": {},
   "outputs": [],
   "source": [
    "stock_prof = pd.DataFrame(index = np.arange(2019,2047), columns = [\"T7\", \"T6_OOS\",\"T7_OOS\", \"Buses\",\"MH\",\"MC\",\"LHD1\",\"LHD2\",\"T7_Port\",\"T6\"])\n",
    "for v in [\"T7\", \"T6_OOS\",\"T7_OOS\", \"Buses\",\"MH\",\"MC\",\"LHD1\",\"LHD2\",\"T7_Port\",\"T6\"]:\n",
    "    t = pd.read_csv(f\"EMFAC_BAU/EMFAC_bau_model_{v}.csv\")\n",
    "    t_stock = t.groupby(\"year\").agg({\"stock\":\"sum\"})\n",
    "    stock_prof[v] = t_stock"
   ]
  },
  {
   "cell_type": "code",
   "execution_count": null,
   "id": "cc13da30-32ac-4c24-a20d-e2c04dddd32a",
   "metadata": {},
   "outputs": [],
   "source": [
    "vmt_prof.to_csv(\"emfac_vmt_prof.csv\")\n",
    "stock_prof.to_csv(\"emfac_stock_prof.csv\")"
   ]
  },
  {
   "cell_type": "markdown",
   "id": "3f991b06-ed9e-48b1-bbd4-396735406c3b",
   "metadata": {},
   "source": [
    "# Model Runs"
   ]
  },
  {
   "cell_type": "markdown",
   "id": "3906a346-4f66-4ab8-9249-45bfc20cc902",
   "metadata": {},
   "source": [
    "## BAU Scenario"
   ]
  },
  {
   "cell_type": "code",
   "execution_count": null,
   "id": "3c54222c-1ce7-4f1a-bfde-a833c29e0f59",
   "metadata": {},
   "outputs": [],
   "source": [
    "start_year = 2019\n",
    "end_year = 2045\n",
    "veh_types = [\"T7\", \"T6_OOS\",\"T7_OOS\", \"Buses\",\"MH\",\"MC\",\"LHD1\",\"LHD2\",\"T7_Port\",\"T6\"]\n",
    "fuel_types = [\"Diesel\",\"Gasoline\",\"Natural Gas\",\"Electricity\",\"Hydrogen\",\"Hybrid\"]\n",
    "input_file = \"Inputs_new_surv_my2020.xlsx\"#\"Inputs_adj.xlsx\"\n",
    "vmt_mode = \"none\"\n",
    "\n",
    "model_BAU = stock_and_flow_baseline(start_year, end_year, veh_types, fuel_types, input_file, vmt_mode)"
   ]
  },
  {
   "cell_type": "code",
   "execution_count": null,
   "id": "a96644c4-2034-480f-8bf7-08cd054488ba",
   "metadata": {},
   "outputs": [],
   "source": [
    "bau_stock = extract_stock_profile(model_BAU, [\"T6\",\"T7\",\"T6_OOS\",\"T7_OOS\",\"T7_Port\",\"Buses\",\"MH\",\"MC\",\"LHD1\",\"LHD2\"])\n",
    "bau_stock.to_csv(\"bau_stock_prof_new.csv\")\n",
    "\n",
    "bau_vmt = extract_vmt_profile(model_BAU, [\"T6\",\"T7\",\"T6_OOS\",\"T7_OOS\",\"T7_Port\",\"Buses\",\"MH\",\"MC\",\"LHD1\",\"LHD2\"])\n",
    "bau_vmt.to_csv(\"bau_vmt_prof_new.csv\")"
   ]
  },
  {
   "cell_type": "code",
   "execution_count": null,
   "id": "9235aeeb-6c99-437d-9fd9-b8ab8f84f03c",
   "metadata": {},
   "outputs": [],
   "source": []
  },
  {
   "cell_type": "code",
   "execution_count": null,
   "id": "2a080ca9-6cb3-462c-afe8-41915df4131a",
   "metadata": {},
   "outputs": [],
   "source": [
    "start = time.time()\n",
    "start_year = 2019\n",
    "end_year = 2045\n",
    "veh_types = [\"T6\",\"T7\",\"T6_OOS\",\"T7_OOS\", \"Buses\",\"MC\",\"LHD1\",\"LHD2\",\"T7_Port\",\"MH\"]\n",
    "fuel_types = [\"Diesel\",\"Gasoline\",\"Natural Gas\",\"Electricity\",\"Hydrogen\",\"Hybrid\"]\n",
    "\n",
    "input_file = \"Inputs_new_surv_my2020.xlsx\"\n",
    "ret_ages = [5]\n",
    "ret_years = [2100]\n",
    "vmt_mode = \"prof\"\n",
    "stock_prof = True\n",
    "\n",
    "frac_elec = {}\n",
    "frac_elec[\"T6\"] = 1\n",
    "frac_elec[\"T6_OOS\"] = 1\n",
    "frac_elec[\"T7\"] = 1\n",
    "frac_elec[\"T7_OOS\"] = 1\n",
    "frac_elec[\"T7_Port\"] = 1\n",
    "frac_elec[\"LHD1\"] = 1\n",
    "frac_elec[\"LHD2\"] = 1\n",
    "frac_elec[\"MC\"] = 1\n",
    "frac_elec[\"MH\"] = 1\n",
    "frac_elec[\"Buses\"] = 1\n",
    "\n",
    "\n",
    "ret_mode = [\"uniform\"]\n",
    "sales_mode = \"\"\n",
    "replacement_mode = \"ZEV_only\"\n",
    "\n",
    "\n",
    "\n",
    "retirement_profile = {}\n",
    "retirement_mode = {}\n",
    "\n",
    "for v in veh_types:\n",
    "    for ra in ret_ages:\n",
    "        for ry in ret_years:\n",
    "            retirement_profile[v] = {}\n",
    "            retirement_profile[v][\"ret_age\"] = ra\n",
    "            retirement_profile[v][\"ret_year\"] = ry\n",
    "            retirement_profile[v][\"phase_in\"] = 0\n",
    "            retirement_mode[v] = ret_mode\n",
    "            for zev_year in [2100]:\n",
    "                target_year = {}\n",
    "                target_year[v] = zev_year\n",
    "                model = stock_and_flow_sales_ret(start_year, end_year, [v], fuel_types, input_file, stock_prof, vmt_mode, \n",
    "                                                 target_year, frac_elec, [retirement_profile], retirement_mode, sales_mode, replacement_mode)\n",
    "                add_used_vehicle_value(model)\n",
    "                model.to_csv(f\"Paper_results_new/model_{v}_BAU.csv\")\n",
    "end = time.time()\n",
    "print(start, end)"
   ]
  },
  {
   "cell_type": "markdown",
   "id": "b518077e-4987-4ec4-817a-7aaae4ff9054",
   "metadata": {},
   "source": [
    "## ZEV Mandate Scenarios"
   ]
  },
  {
   "cell_type": "code",
   "execution_count": null,
   "id": "9e5054bb-aede-4b10-b604-6568b84525ff",
   "metadata": {},
   "outputs": [],
   "source": [
    "#Sales only scenarios\n",
    "start = time.time()\n",
    "start_year = 2019\n",
    "end_year = 2045\n",
    "veh_types = [\"T6\",\"T7\",\"T6_OOS\",\"T7_OOS\", \"Buses\",\"MC\",\"LHD1\",\"LHD2\",\"T7_Port\",\"MH\"]\n",
    "fuel_types = [\"Diesel\",\"Gasoline\",\"Natural Gas\",\"Electricity\",\"Hydrogen\",\"Hybrid\"]\n",
    "\n",
    "input_file = \"Inputs_new_surv_my2020.xlsx\"\n",
    "ret_ages = [5]\n",
    "ret_years = [2100]\n",
    "vmt_mode = \"prof\"\n",
    "stock_prof = True\n",
    "\n",
    "frac_elec = {}\n",
    "frac_elec[\"T6\"] = 1\n",
    "frac_elec[\"T6_OOS\"] = 1\n",
    "frac_elec[\"T7\"] = 1\n",
    "frac_elec[\"T7_OOS\"] = 1\n",
    "frac_elec[\"T7_Port\"] = 1\n",
    "frac_elec[\"LHD1\"] = 1\n",
    "frac_elec[\"LHD2\"] = 1\n",
    "frac_elec[\"MC\"] = 1\n",
    "frac_elec[\"MH\"] = 1\n",
    "frac_elec[\"Buses\"] = 1\n",
    "\n",
    "ret_mode = [\"uniform\"]\n",
    "sales_mode = \"linear\"\n",
    "replacement_mode = \"ZEV_only\"\n",
    "\n",
    "\n",
    "\n",
    "retirement_profile = {}\n",
    "retirement_mode = {}\n",
    "\n",
    "for v in veh_types:\n",
    "    for ra in ret_ages:\n",
    "        for ry in ret_years:\n",
    "            retirement_profile[v] = {}\n",
    "            retirement_profile[v][\"ret_age\"] = ra\n",
    "            retirement_profile[v][\"ret_year\"] = ry\n",
    "            retirement_profile[v][\"phase_in\"] = 0\n",
    "            retirement_mode[v] = ret_mode\n",
    "            for zev_year in [2025, 2030, 2035, 2040, 2045]:\n",
    "                target_year = {}\n",
    "                target_year[v] = zev_year\n",
    "                model = stock_and_flow_sales_ret(start_year, end_year, [v], fuel_types, input_file, stock_prof, vmt_mode, \n",
    "                                                 target_year, frac_elec, [retirement_profile], retirement_mode, sales_mode, replacement_mode)\n",
    "                add_used_vehicle_value(model)\n",
    "                model.to_csv(f\"Paper_results_new/model_{v}_{zev_year}.csv\")\n",
    "end = time.time()\n",
    "print(start, end)"
   ]
  },
  {
   "cell_type": "markdown",
   "id": "88ac0bf1-cd3f-4a12-8b17-b523e4ec5ef5",
   "metadata": {},
   "source": [
    "## Early Retirement Scenarios"
   ]
  },
  {
   "cell_type": "code",
   "execution_count": null,
   "id": "5f1e2a53-55c6-49d6-adb3-9eb0f0b58a3c",
   "metadata": {},
   "outputs": [],
   "source": [
    "#Sales and retirement only scenarios\n",
    "start = time.time()\n",
    "start_year = 2019\n",
    "end_year = 2045\n",
    "veh_types = [\"T6\",\"T7\",\"T6_OOS\",\"T7_OOS\", \"Buses\",\"MC\",\"LHD1\",\"LHD2\",\"T7_Port\",\"MH\"]#[\"T6\",\"T7\", #T7 didn't finish\n",
    "fuel_types = [\"Diesel\",\"Gasoline\",\"Natural Gas\",\"Electricity\",\"Hydrogen\",\"Hybrid\"]\n",
    "#input_file = \"Inputs_mixed_scenario_no_early_ret_EMFAC_sales<1_2020_surv_updatedfe_vint_vmt_actual_surv_2.xlsx\"\n",
    "input_file = \"Inputs_new_surv_my2020.xlsx\"\n",
    "ret_ages = [5,10, 15, 20, 25]\n",
    "ret_years = [2025, 2030, 2035,2040, 2045]\n",
    "vmt_mode = \"prof\"\n",
    "stock_prof = True\n",
    "\n",
    "frac_elec = {}\n",
    "frac_elec[\"T6\"] = 1\n",
    "frac_elec[\"T6_OOS\"] = 1\n",
    "frac_elec[\"T7\"] = 1\n",
    "frac_elec[\"T7_OOS\"] = 1\n",
    "frac_elec[\"T7_Port\"] = 1\n",
    "frac_elec[\"LHD1\"] = 1\n",
    "frac_elec[\"LHD2\"] = 1\n",
    "frac_elec[\"MC\"] = 1\n",
    "frac_elec[\"MH\"] = 1\n",
    "frac_elec[\"Buses\"] = 1\n",
    "\n",
    "# ret_profile= {}\n",
    "# ret_profile[\"ret_age\"] = 30\n",
    "# ret_profile[\"ret_year\"] = 2100\n",
    "# ret_profile[\"phase_in\"] = 0\n",
    "ret_mode = [\"uniform\"]\n",
    "sales_mode = \"linear\"\n",
    "replacement_mode = \"ZEV_only\"\n",
    "\n",
    "\n",
    "\n",
    "retirement_profile = {}\n",
    "retirement_mode = {}\n",
    "# retirement_profile[\"T6\"] = {}\n",
    "# retirement_profile[\"T6\"][\"phase_in\"] = 5\n",
    "for v in veh_types:\n",
    "    for ra in ret_ages:\n",
    "        for ry in ret_years:\n",
    "            retirement_profile[v] = {}\n",
    "            retirement_profile[v][\"ret_age\"] = ra\n",
    "            retirement_profile[v][\"ret_year\"] = ry\n",
    "            retirement_profile[v][\"phase_in\"] = 0\n",
    "            retirement_mode[v] = ret_mode\n",
    "            for zev_year in [2035,2040, 2045]:\n",
    "                target_year = {}\n",
    "                target_year[v] = zev_year\n",
    "                model = stock_and_flow_sales_ret(start_year, end_year, [v], fuel_types, input_file, stock_prof, vmt_mode, \n",
    "                                                 target_year, frac_elec, [retirement_profile], retirement_mode, sales_mode, replacement_mode)\n",
    "                model.to_csv(f\"Paper_results_new/model_{v}_{zev_year}_{ra}_{ry}.csv\")\n",
    "end = time.time()\n",
    "print(start, end)"
   ]
  }
 ],
 "metadata": {
  "kernelspec": {
   "display_name": "Python 3 (ipykernel)",
   "language": "python",
   "name": "python3"
  },
  "language_info": {
   "codemirror_mode": {
    "name": "ipython",
    "version": 3
   },
   "file_extension": ".py",
   "mimetype": "text/x-python",
   "name": "python",
   "nbconvert_exporter": "python",
   "pygments_lexer": "ipython3",
   "version": "3.9.16"
  }
 },
 "nbformat": 4,
 "nbformat_minor": 5
}
